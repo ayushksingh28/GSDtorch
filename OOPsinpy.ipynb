{
  "nbformat": 4,
  "nbformat_minor": 0,
  "metadata": {
    "colab": {
      "provenance": []
    },
    "kernelspec": {
      "name": "python3",
      "display_name": "Python 3"
    },
    "language_info": {
      "name": "python"
    }
  },
  "cells": [
    {
      "cell_type": "markdown",
      "source": [
        "### Classes and Instances"
      ],
      "metadata": {
        "id": "zA7LdH12dXk0"
      }
    },
    {
      "cell_type": "code",
      "execution_count": 1,
      "metadata": {
        "colab": {
          "base_uri": "https://localhost:8080/"
        },
        "id": "MtFSScjIbDlM",
        "outputId": "94805b5d-4712-49f6-c2f1-3fe76ecd8f53"
      },
      "outputs": [
        {
          "output_type": "stream",
          "name": "stdout",
          "text": [
            "Corey.Scafer@company.com\n",
            "Test.User@company.com\n"
          ]
        }
      ],
      "source": [
        "class Employee: ## class method\n",
        "  def __init__(self, first, last, pay): ## __init__ is the initialization of the class or maybe in terms of other languages it's a constructor\n",
        "    self.first = first # instance variables which are unique to every instance.\n",
        "    self.last = last\n",
        "    self.pay = pay\n",
        "    self.email = first + \".\" + last + \"@company.com\"\n",
        "\n",
        "  def fullname(self): ## taking instance of the class as the first argument and that's all that you will need\n",
        "    return \"{} {}\".format(self.first, self.last)\n",
        "\n",
        "\n",
        "\n",
        "emp1 = Employee(\"Corey\", \"Scafer\", 40000)\n",
        "emp2 = Employee(\"Test\", \"User\", 50000)\n",
        "\n",
        "print(emp1.email)\n",
        "print(emp2.email)"
      ]
    },
    {
      "cell_type": "code",
      "source": [
        "print(emp1.fullname()) ## an instance and calling a method then I don't need to pass in self, it runs itself."
      ],
      "metadata": {
        "colab": {
          "base_uri": "https://localhost:8080/"
        },
        "id": "4MgDJzrWe6Z0",
        "outputId": "b77e627d-d90f-44f9-c3f7-a5bc1d87d0a1"
      },
      "execution_count": 2,
      "outputs": [
        {
          "output_type": "stream",
          "name": "stdout",
          "text": [
            "Corey Scafer\n"
          ]
        }
      ]
    },
    {
      "cell_type": "code",
      "source": [
        "Employee.fullname(emp1) ## when we run the method on a class then it doesn't know which instance to run on that method."
      ],
      "metadata": {
        "colab": {
          "base_uri": "https://localhost:8080/",
          "height": 35
        },
        "id": "pPSJot4HgChJ",
        "outputId": "ac005766-95b3-4cce-c141-8aa50acd020d"
      },
      "execution_count": 3,
      "outputs": [
        {
          "output_type": "execute_result",
          "data": {
            "text/plain": [
              "'Corey Scafer'"
            ],
            "application/vnd.google.colaboratory.intrinsic+json": {
              "type": "string"
            }
          },
          "metadata": {},
          "execution_count": 3
        }
      ]
    },
    {
      "cell_type": "code",
      "source": [
        "class Employee: ## class method\n",
        "\n",
        "  raise_amount = 1.04\n",
        "  def __init__(self, first, last, pay): ## __init__ is the initialization of the class or maybe in terms of other languages it's a constructor\n",
        "    self.first = first # instance variables which are unique to every instance.\n",
        "    self.last = last\n",
        "    self.pay = pay\n",
        "    self.email = first + \".\" + last + \"@company.com\"\n",
        "\n",
        "  def fullname(self): ## taking instance of the class as the first argument and that's all that you will need\n",
        "    return \"{} {}\".format(self.first, self.last)\n",
        "\n",
        "  def apply_raise(self):\n",
        "    self.pay = int(self.pay * self.raise_amount)\n",
        "\n",
        "\n",
        "\n",
        "emp1 = Employee(\"Corey\", \"Scafer\", 50000)\n",
        "emp2 = Employee(\"Test\", \"User\", 50000)"
      ],
      "metadata": {
        "id": "-cWeck1fg8Jj"
      },
      "execution_count": 4,
      "outputs": []
    },
    {
      "cell_type": "code",
      "source": [
        "print(emp1.pay)"
      ],
      "metadata": {
        "colab": {
          "base_uri": "https://localhost:8080/"
        },
        "id": "EjVZPht_HWMc",
        "outputId": "406b26e7-d7dd-470e-d423-e37cd79e2cc6"
      },
      "execution_count": 5,
      "outputs": [
        {
          "output_type": "stream",
          "name": "stdout",
          "text": [
            "50000\n"
          ]
        }
      ]
    },
    {
      "cell_type": "code",
      "source": [
        "emp1.apply_raise()\n",
        "print(emp1.pay)"
      ],
      "metadata": {
        "colab": {
          "base_uri": "https://localhost:8080/"
        },
        "id": "i84PGCt2HYhL",
        "outputId": "554d23d6-17af-4ec6-8e39-3c3aa4623bd3"
      },
      "execution_count": 6,
      "outputs": [
        {
          "output_type": "stream",
          "name": "stdout",
          "text": [
            "52000\n"
          ]
        }
      ]
    },
    {
      "cell_type": "code",
      "source": [
        "print(Employee.raise_amount)\n",
        "print(emp1.raise_amount)\n",
        "print(emp2.raise_amount)\n",
        "## Whenever we raise an attribute to an instance, it checks whether that instance has that attribute, in case of a no. It checks if the class has that attribute."
      ],
      "metadata": {
        "colab": {
          "base_uri": "https://localhost:8080/"
        },
        "id": "rwevDlGCI2aM",
        "outputId": "511f9624-3630-477d-b424-beed9a35f8f3"
      },
      "execution_count": 7,
      "outputs": [
        {
          "output_type": "stream",
          "name": "stdout",
          "text": [
            "1.04\n",
            "1.04\n",
            "1.04\n"
          ]
        }
      ]
    },
    {
      "cell_type": "code",
      "source": [
        "class Employee: ## class method\n",
        "\n",
        "  raise_amount = 1.04\n",
        "  def __init__(self, first, last, pay): ## __init__ is the initialization of the class or maybe in terms of other languages it's a constructor\n",
        "    self.first = first # instance variables which are unique to every instance.\n",
        "    self.last = last\n",
        "    self.pay = pay\n",
        "    self.email = first + \".\" + last + \"@company.com\"\n",
        "\n",
        "  def fullname(self): ## taking instance of the class as the first argument and that's all that you will need\n",
        "    return \"{} {}\".format(self.first, self.last)\n",
        "\n",
        "  def apply_raise(self):\n",
        "    self.pay = int(self.pay * self.raise_amount)\n",
        "\n",
        "\n",
        "\n",
        "emp1 = Employee(\"Corey\", \"Scafer\", 50000)\n",
        "emp2 = Employee(\"Test\", \"User\", 50000)\n",
        "\n",
        "\n",
        "Employee.raise_amount = 1.05\n",
        "\n",
        "print(Employee.raise_amount)\n",
        "print(emp1.raise_amount)\n",
        "print(emp2.raise_amount)"
      ],
      "metadata": {
        "colab": {
          "base_uri": "https://localhost:8080/"
        },
        "id": "TDVKk9E8JtH4",
        "outputId": "e7728168-7d14-4472-ac1f-3fe2bf6ce8f4"
      },
      "execution_count": 8,
      "outputs": [
        {
          "output_type": "stream",
          "name": "stdout",
          "text": [
            "1.05\n",
            "1.05\n",
            "1.05\n"
          ]
        }
      ]
    },
    {
      "cell_type": "code",
      "source": [
        "class Employee: ## class method\n",
        "\n",
        "  raise_amount = 1.04\n",
        "  def __init__(self, first, last, pay): ## __init__ is the initialization of the class or maybe in terms of other languages it's a constructor\n",
        "    self.first = first # instance variables which are unique to every instance.\n",
        "    self.last = last\n",
        "    self.pay = pay\n",
        "    self.email = first + \".\" + last + \"@company.com\"\n",
        "\n",
        "  def fullname(self): ## taking instance of the class as the first argument and that's all that you will need\n",
        "    return \"{} {}\".format(self.first, self.last)\n",
        "\n",
        "  def apply_raise(self):\n",
        "    self.pay = int(self.pay * self.raise_amount)\n",
        "\n",
        "\n",
        "\n",
        "emp1 = Employee(\"Corey\", \"Scafer\", 50000)\n",
        "emp2 = Employee(\"Test\", \"User\", 50000)\n",
        "\n",
        "emp1.raise_amount = 1.05\n",
        "\n",
        "print(Employee.raise_amount)\n",
        "print(emp1.raise_amount)\n",
        "print(emp2.raise_amount)"
      ],
      "metadata": {
        "colab": {
          "base_uri": "https://localhost:8080/"
        },
        "id": "xojwsVHJK5BC",
        "outputId": "ee0665b6-81ec-4664-e023-98739caca20a"
      },
      "execution_count": 9,
      "outputs": [
        {
          "output_type": "stream",
          "name": "stdout",
          "text": [
            "1.04\n",
            "1.05\n",
            "1.04\n"
          ]
        }
      ]
    },
    {
      "cell_type": "code",
      "source": [
        "print(emp1.__dict__)"
      ],
      "metadata": {
        "colab": {
          "base_uri": "https://localhost:8080/"
        },
        "id": "uFkaG6nILOSP",
        "outputId": "faf28198-4feb-48d6-acdb-278280b05c9a"
      },
      "execution_count": 10,
      "outputs": [
        {
          "output_type": "stream",
          "name": "stdout",
          "text": [
            "{'first': 'Corey', 'last': 'Scafer', 'pay': 50000, 'email': 'Corey.Scafer@company.com', 'raise_amount': 1.05}\n"
          ]
        }
      ]
    },
    {
      "cell_type": "code",
      "source": [
        "class Employee: ## class method\n",
        "  num_of_emps = 0\n",
        "  raise_amount = 1.04\n",
        "  def __init__(self, first, last, pay): ## __init__ is the initialization of the class or maybe in terms of other languages it's a constructor\n",
        "    self.first = first # instance variables which are unique to every instance.\n",
        "    self.last = last\n",
        "    self.pay = pay\n",
        "    self.email = first + \".\" + last + \"@company.com\"\n",
        "\n",
        "    Employee.num_of_emps +=1 ## class variables\n",
        "\n",
        "\n",
        "  def fullname(self): ## taking instance of the class as the first argument and that's all that you will need\n",
        "    return \"{} {}\".format(self.first, self.last)\n",
        "\n",
        "  def apply_raise(self):\n",
        "    self.pay = int(self.pay * self.raise_amount)\n",
        "\n",
        "\n",
        "\n",
        "emp1 = Employee(\"Corey\", \"Scafer\", 50000)\n",
        "emp2 = Employee(\"Test\", \"User\", 50000)"
      ],
      "metadata": {
        "id": "k9K4zW4-LUJ0"
      },
      "execution_count": 11,
      "outputs": []
    },
    {
      "cell_type": "code",
      "source": [
        "print(Employee.num_of_emps)"
      ],
      "metadata": {
        "colab": {
          "base_uri": "https://localhost:8080/"
        },
        "id": "5pPAzKgVLubN",
        "outputId": "ac9c185d-b471-49f4-fdaf-182aaaae257d"
      },
      "execution_count": 12,
      "outputs": [
        {
          "output_type": "stream",
          "name": "stdout",
          "text": [
            "2\n"
          ]
        }
      ]
    },
    {
      "cell_type": "markdown",
      "source": [
        "### Regular Methods, Class Methods and Static Methods"
      ],
      "metadata": {
        "id": "3-R_QPJQMD11"
      }
    },
    {
      "cell_type": "code",
      "source": [
        "class Employee: ## class method\n",
        "\n",
        "  raise_amount = 1.04\n",
        "  def __init__(self, first, last, pay): ## __init__ is the initialization of the class or maybe in terms of other languages it's a constructor\n",
        "    self.first = first # instance variables which are unique to every instance.\n",
        "    self.last = last\n",
        "    self.pay = pay\n",
        "    self.email = first + \".\" + last + \"@company.com\"\n",
        "\n",
        "  def fullname(self): ## taking instance of the class as the first argument and that's all that you will need\n",
        "    return \"{} {}\".format(self.first, self.last)\n",
        "\n",
        "  def apply_raise(self):\n",
        "    self.pay = int(self.pay * self.raise_amount)\n",
        "\n",
        "  @classmethod ## class method which just overrides shit and gives direct access to change the attributes in a class\n",
        "  def set_raise_amount(cls, amount):\n",
        "    cls.raise_amount = amount\n",
        "\n",
        "\n",
        "Employee.set_raise_amount(1.07)\n",
        "\n",
        "\n",
        "emp1 = Employee(\"Corey\", \"Scafer\", 50000)\n",
        "emp2 = Employee(\"Test\", \"User\", 50000)\n",
        "\n",
        "print(Employee.raise_amount)\n",
        "print(emp1.raise_amount)\n",
        "print(emp2.raise_amount)"
      ],
      "metadata": {
        "colab": {
          "base_uri": "https://localhost:8080/"
        },
        "id": "yBRzoc_QLzPx",
        "outputId": "54752619-8713-4f95-babc-cfec0ab4f2e9"
      },
      "execution_count": 13,
      "outputs": [
        {
          "output_type": "stream",
          "name": "stdout",
          "text": [
            "1.07\n",
            "1.07\n",
            "1.07\n"
          ]
        }
      ]
    },
    {
      "cell_type": "code",
      "source": [
        "class Employee: ## class method\n",
        "\n",
        "  raise_amount = 1.04\n",
        "  def __init__(self, first, last, pay): ## __init__ is the initialization of the class or maybe in terms of other languages it's a constructor\n",
        "    self.first = first # instance variables which are unique to every instance.\n",
        "    self.last = last\n",
        "    self.pay = pay\n",
        "    self.email = first + \".\" + last + \"@company.com\"\n",
        "\n",
        "  def fullname(self): ## taking instance of the class as the first argument and that's all that you will need\n",
        "    return \"{} {}\".format(self.first, self.last)\n",
        "\n",
        "  def apply_raise(self):\n",
        "    self.pay = int(self.pay * self.raise_amount)\n",
        "\n",
        "\n",
        "  @classmethod\n",
        "  def set_raise_amount(cls, amount):\n",
        "    cls.raise_amount = amount\n",
        "\n",
        "\n",
        "emp1 = Employee(\"Corey\", \"Scafer\", 50000)\n",
        "emp2 = Employee(\"Test\", \"User\", 50000)\n",
        "\n",
        "\n",
        "emp1.set_raise_amount(1.08) # run the class method from the instance and it changes the attribute value for all the instances\n",
        "\n",
        "print(Employee.raise_amount)\n",
        "print(emp1.raise_amount)\n",
        "print(emp2.raise_amount)"
      ],
      "metadata": {
        "colab": {
          "base_uri": "https://localhost:8080/"
        },
        "id": "mJAq8c7EN6WH",
        "outputId": "f9142557-6ccd-4ecd-e781-c5f5f5be9dd1"
      },
      "execution_count": 14,
      "outputs": [
        {
          "output_type": "stream",
          "name": "stdout",
          "text": [
            "1.08\n",
            "1.08\n",
            "1.08\n"
          ]
        }
      ]
    },
    {
      "cell_type": "code",
      "source": [
        "class Employee: ## class method\n",
        "\n",
        "  raise_amount = 1.04\n",
        "  def __init__(self, first, last, pay): ## __init__ is the initialization of the class or maybe in terms of other languages it's a constructor\n",
        "    self.first = first # instance variables which are unique to every instance.\n",
        "    self.last = last\n",
        "    self.pay = pay\n",
        "    self.email = first + \".\" + last + \"@company.com\"\n",
        "\n",
        "  def fullname(self): ## taking instance of the class as the first argument and that's all that you will need\n",
        "    return \"{} {}\".format(self.first, self.last)\n",
        "\n",
        "  def apply_raise(self):\n",
        "    self.pay = int(self.pay * self.raise_amount)\n",
        "\n",
        "\n",
        "  @classmethod\n",
        "  def set_raise_amount(cls, amount):\n",
        "    cls.raise_amount = amount\n",
        "\n",
        "  @classmethod\n",
        "  def from_string(cls, emp_str):\n",
        "    first, last, pay = emp_str.split('-')\n",
        "    return cls(first, last, pay)\n",
        "\n",
        "\n",
        "emp1 = Employee(\"Corey\", \"Scafer\", 50000)\n",
        "emp2 = Employee(\"Test\", \"User\", 50000)\n",
        "\n",
        "emp_str_1 = 'Johni-Doe-70000'\n",
        "emp_str_2 = 'Steve-Smith-300000'\n",
        "emp_str_3 = 'Jane-Doe-90000'\n",
        "\n",
        "new_emp_1 = Employee.from_string(emp_str_1)\n",
        "\n",
        "print(new_emp_1.first)\n",
        "print(new_emp_1.pay)"
      ],
      "metadata": {
        "colab": {
          "base_uri": "https://localhost:8080/"
        },
        "id": "-yUVeSf7PXGe",
        "outputId": "8d1d21e0-b325-40b5-b24b-b38d53b6e56c"
      },
      "execution_count": 15,
      "outputs": [
        {
          "output_type": "stream",
          "name": "stdout",
          "text": [
            "Johni\n",
            "70000\n"
          ]
        }
      ]
    },
    {
      "cell_type": "code",
      "source": [
        "# additional constructors\n",
        "@classmethod\n",
        "def fromtimestamp(cls, t):\n",
        "  #Contruct a date from POSIX timestamp (like time.time())\n",
        "  y, m, d, hh, mm, ss, weekday, jday, dst = _time.localtime(t)\n",
        "\n",
        "  return cls(y, m, d)\n",
        "\n",
        "@classmethod\n",
        "def today(cls):\n",
        "  # Construct a date from time.time\n",
        "  t = _time.time()\n",
        "  return cls.fromtimestamp(t)\n",
        "\n"
      ],
      "metadata": {
        "id": "BP7BdqXXZc7y"
      },
      "execution_count": 16,
      "outputs": []
    },
    {
      "cell_type": "code",
      "source": [
        "# regular methods automatically pass the instance as the first argument which is called \"self\",\n",
        "# and class methods automatically pass the class and static methods don't pass anything."
      ],
      "metadata": {
        "id": "i2NL-gO7apQ6"
      },
      "execution_count": 17,
      "outputs": []
    },
    {
      "cell_type": "code",
      "source": [
        "class Employee: ## class method\n",
        "\n",
        "  raise_amount = 1.04\n",
        "  def __init__(self, first, last, pay): ## __init__ is the initialization of the class or maybe in terms of other languages it's a constructor\n",
        "    self.first = first # instance variables which are unique to every instance.\n",
        "    self.last = last\n",
        "    self.pay = pay\n",
        "    self.email = first + \".\" + last + \"@company.com\"\n",
        "\n",
        "  def fullname(self): ## taking instance of the class as the first argument and that's all that you will need\n",
        "    return \"{} {}\".format(self.first, self.last)\n",
        "\n",
        "  def apply_raise(self):\n",
        "    self.pay = int(self.pay * self.raise_amount)\n",
        "\n",
        "  @classmethod\n",
        "  def set_raise_amount(cls, amount):\n",
        "    cls.raise_amount = amount\n",
        "\n",
        "  @classmethod\n",
        "  def from_string(cls, emp_str):\n",
        "    first, last, pay = emp_str.split('-')\n",
        "    return cls(first, last, pay)\n",
        "\n",
        "  @staticmethod\n",
        "  def is_workday(day):\n",
        "    if day.weekday() == 5 or day.weekday() == 6:\n",
        "      return False\n",
        "\n",
        "    return True\n",
        "\n",
        "import datetime\n",
        "\n",
        "my_date = datetime.date(2016, 7, 11)\n",
        "\n",
        "print(Employee.is_workday(my_date))\n"
      ],
      "metadata": {
        "colab": {
          "base_uri": "https://localhost:8080/"
        },
        "id": "Cdpiqgpwbk7R",
        "outputId": "71aa1000-c115-4eea-fa33-981731a9504e"
      },
      "execution_count": 18,
      "outputs": [
        {
          "output_type": "stream",
          "name": "stdout",
          "text": [
            "True\n"
          ]
        }
      ]
    },
    {
      "cell_type": "markdown",
      "source": [
        "### Inheritance: Creating Subclasses"
      ],
      "metadata": {
        "id": "49x6B5v1grWS"
      }
    },
    {
      "cell_type": "code",
      "source": [
        "class Employee():\n",
        "  raise_amt = 1.04\n",
        "  def __init__(self, first, last, pay):\n",
        "    self.first = first\n",
        "    self.last = last\n",
        "    self.pay = pay\n",
        "    self.email = first + '.' + last + '@gmail.com'\n",
        "\n",
        "  def fullname(self):\n",
        "    return '{} {}'.format(self.first, self.last)\n",
        "\n",
        "\n",
        "  def apply_raise(self):\n",
        "    self.pay = int(self.pay * self.raise_amt)\n",
        "\n",
        "\n",
        "class Developer(Employee):\n",
        "  pass\n",
        "\n",
        "dev_1 = Developer(\"Ayush\", \"Singh\", 50000)\n",
        "dev_2 = Developer(\"Anuj\", \"Kumar\", 60000)"
      ],
      "metadata": {
        "id": "vxJvB2lne4N-"
      },
      "execution_count": 19,
      "outputs": []
    },
    {
      "cell_type": "code",
      "source": [
        "print(dev_1.email)\n",
        "print(dev_2.email)"
      ],
      "metadata": {
        "colab": {
          "base_uri": "https://localhost:8080/"
        },
        "id": "2qMveAPNiI4g",
        "outputId": "17c2237b-640d-422b-e499-e5fce5efd9c0"
      },
      "execution_count": 20,
      "outputs": [
        {
          "output_type": "stream",
          "name": "stdout",
          "text": [
            "Ayush.Singh@gmail.com\n",
            "Anuj.Kumar@gmail.com\n"
          ]
        }
      ]
    },
    {
      "cell_type": "code",
      "source": [
        "print(help(Developer))"
      ],
      "metadata": {
        "colab": {
          "base_uri": "https://localhost:8080/"
        },
        "id": "mxg4LGMtjHFn",
        "outputId": "4c26ef3a-8a00-4513-c2ac-5d76034983f3"
      },
      "execution_count": 21,
      "outputs": [
        {
          "output_type": "stream",
          "name": "stdout",
          "text": [
            "Help on class Developer in module __main__:\n",
            "\n",
            "class Developer(Employee)\n",
            " |  Developer(first, last, pay)\n",
            " |  \n",
            " |  Method resolution order:\n",
            " |      Developer\n",
            " |      Employee\n",
            " |      builtins.object\n",
            " |  \n",
            " |  Methods inherited from Employee:\n",
            " |  \n",
            " |  __init__(self, first, last, pay)\n",
            " |      Initialize self.  See help(type(self)) for accurate signature.\n",
            " |  \n",
            " |  apply_raise(self)\n",
            " |  \n",
            " |  fullname(self)\n",
            " |  \n",
            " |  ----------------------------------------------------------------------\n",
            " |  Data descriptors inherited from Employee:\n",
            " |  \n",
            " |  __dict__\n",
            " |      dictionary for instance variables (if defined)\n",
            " |  \n",
            " |  __weakref__\n",
            " |      list of weak references to the object (if defined)\n",
            " |  \n",
            " |  ----------------------------------------------------------------------\n",
            " |  Data and other attributes inherited from Employee:\n",
            " |  \n",
            " |  raise_amt = 1.04\n",
            "\n",
            "None\n"
          ]
        }
      ]
    },
    {
      "cell_type": "code",
      "source": [
        "class Employee():\n",
        "  raise_amt = 1.04\n",
        "  def __init__(self, first, last, pay):\n",
        "    self.first = first\n",
        "    self.last = last\n",
        "    self.pay = pay\n",
        "    self.email = first + '.' + last + '@gmail.com'\n",
        "\n",
        "  def fullname(self):\n",
        "    return '{} {}'.format(self.first, self.last)\n",
        "\n",
        "\n",
        "  def apply_raise(self):\n",
        "    self.pay = int(self.pay * self.raise_amt)\n",
        "\n",
        "\n",
        "class Developer(Employee):\n",
        "  raise_amt = 1.10\n",
        "  def __init__(self, first, last, pay, prog_lang):\n",
        "    super().__init__(first, last, pay)\n",
        "    self.prog_lang = prog_lang\n",
        "\n",
        "\n",
        "dev_1 = Developer(\"Ayush\", \"Singh\", 50000, 'Python')\n",
        "dev_2 = Developer(\"Anuj\", \"Kumar\", 60000, 'Java')"
      ],
      "metadata": {
        "id": "1nlzUZMdjVpj"
      },
      "execution_count": 22,
      "outputs": []
    },
    {
      "cell_type": "code",
      "source": [
        "print(dev_1.email)\n",
        "print(dev_2.prog_lang)"
      ],
      "metadata": {
        "colab": {
          "base_uri": "https://localhost:8080/"
        },
        "id": "IjI_3QFdmFrd",
        "outputId": "f80e1009-1479-4e6c-a41d-0b9f7422f75c"
      },
      "execution_count": 23,
      "outputs": [
        {
          "output_type": "stream",
          "name": "stdout",
          "text": [
            "Ayush.Singh@gmail.com\n",
            "Java\n"
          ]
        }
      ]
    },
    {
      "cell_type": "code",
      "source": [
        "class Employee():\n",
        "  raise_amt = 1.04\n",
        "  def __init__(self, first, last, pay):\n",
        "    self.first = first\n",
        "    self.last = last\n",
        "    self.pay = pay\n",
        "    self.email = first + '.' + last + '@gmail.com'\n",
        "\n",
        "  def fullname(self):\n",
        "    return '{} {}'.format(self.first, self.last)\n",
        "\n",
        "\n",
        "  def apply_raise(self):\n",
        "    self.pay = int(self.pay * self.raise_amt)\n",
        "\n",
        "\n",
        "class Developer(Employee):\n",
        "  raise_amt = 1.10\n",
        "  def __init__(self, first, last, pay, prog_lang):\n",
        "    super().__init__(first, last, pay)\n",
        "    self.prog_lang = prog_lang\n",
        "\n",
        "\n",
        "class Manager(Employee):\n",
        "  def __init__(self, first, last, pay, employees = None):\n",
        "    super().__init__(first, last, pay)\n",
        "    if employees is None:\n",
        "      self.employees = []\n",
        "\n",
        "    else:\n",
        "      self.employees = employees\n",
        "\n",
        "  def add_emp(self, emp):\n",
        "    if emp not in self.employees:\n",
        "      self.employees.append(emp)\n",
        "\n",
        "  def remove_emp(self, emp):\n",
        "    if emp in self.employees:\n",
        "      self.employees.remove(emp)\n",
        "\n",
        "  def print_emp(self):\n",
        "    for emp in self.employees:\n",
        "      print(\"-->\", emp.fullname())\n",
        "\n",
        "dev_1 = Developer(\"Ayush\", \"Singh\", 50000, 'Python')\n",
        "dev_2 = Developer(\"Anuj\", \"Kumar\", 60000, 'Java')\n",
        "\n",
        "\n",
        "mgr_1 = Manager('Sushi', \"Khalo\", 90000, [dev_1])\n",
        "\n",
        "print(mgr_1.email)\n",
        "print(mgr_1.print_emp())\n"
      ],
      "metadata": {
        "colab": {
          "base_uri": "https://localhost:8080/"
        },
        "id": "O9AjIZKCmPKX",
        "outputId": "2a400ec3-fa8e-4ab9-d2ed-f5ba42baa9dd"
      },
      "execution_count": 24,
      "outputs": [
        {
          "output_type": "stream",
          "name": "stdout",
          "text": [
            "Sushi.Khalo@gmail.com\n",
            "--> Ayush Singh\n",
            "None\n"
          ]
        }
      ]
    },
    {
      "cell_type": "code",
      "source": [
        "mgr_1.print_emp()"
      ],
      "metadata": {
        "colab": {
          "base_uri": "https://localhost:8080/"
        },
        "id": "8yfTmj7do6_7",
        "outputId": "572941fe-546a-4b61-f6d8-c0ed99b0b7de"
      },
      "execution_count": 25,
      "outputs": [
        {
          "output_type": "stream",
          "name": "stdout",
          "text": [
            "--> Ayush Singh\n"
          ]
        }
      ]
    },
    {
      "cell_type": "code",
      "source": [
        "print(isinstance(mgr_1, Developer))"
      ],
      "metadata": {
        "colab": {
          "base_uri": "https://localhost:8080/"
        },
        "id": "ZXSRHBd8pDGC",
        "outputId": "7a941783-b904-4023-dc07-f6d46a83634e"
      },
      "execution_count": 26,
      "outputs": [
        {
          "output_type": "stream",
          "name": "stdout",
          "text": [
            "False\n"
          ]
        }
      ]
    },
    {
      "cell_type": "code",
      "source": [
        "print(issubclass(Developer, Employee))"
      ],
      "metadata": {
        "colab": {
          "base_uri": "https://localhost:8080/"
        },
        "id": "-1QEfJq4pq6o",
        "outputId": "a868f54a-eeca-4e3a-a7c4-8e6664bf5132"
      },
      "execution_count": 27,
      "outputs": [
        {
          "output_type": "stream",
          "name": "stdout",
          "text": [
            "True\n"
          ]
        }
      ]
    },
    {
      "cell_type": "markdown",
      "source": [
        "### Special Methods"
      ],
      "metadata": {
        "id": "6UAnq4v4CN23"
      }
    },
    {
      "cell_type": "code",
      "source": [
        "class Employee():\n",
        "  raise_amt = 1.04\n",
        "  def __init__(self, first, last, pay):\n",
        "    self.first = first\n",
        "    self.last = last\n",
        "    self.pay = pay\n",
        "    self.email = first + '.' + last + '@gmail.com'\n",
        "\n",
        "  def fullname(self):\n",
        "    return '{} {}'.format(self.first, self.last)\n",
        "\n",
        "\n",
        "  def apply_raise(self):\n",
        "    self.pay = int(self.pay * self.raise_amt)\n",
        "\n",
        "\n",
        "  def __repr__(self): # repr is meant to be an unambiguous representation of the object and be used for debugging and logging and str is meant to be seen by the end user.\n",
        "     return \"Employee('{}', '{}', '{}')\".format(self.first, self.last, self.pay)\n",
        "\n",
        "  # def __str__(self):\n",
        "  #    return '{}, {}'.format(self.fullname(), self.email)\n",
        "\n",
        "emp1 = Employee(\"Corey\", \"Scafer\", 50000)\n",
        "emp2 = Employee(\"Test\", \"User\", 50000)\n",
        "\n",
        "print(emp1)\n",
        "\n",
        ""
      ],
      "metadata": {
        "colab": {
          "base_uri": "https://localhost:8080/"
        },
        "id": "oWwYYFfFpwTX",
        "outputId": "217870fa-135e-46dd-aa88-6660b9b690f3"
      },
      "execution_count": 28,
      "outputs": [
        {
          "output_type": "stream",
          "name": "stdout",
          "text": [
            "Employee('Corey', 'Scafer', '50000')\n"
          ]
        }
      ]
    },
    {
      "cell_type": "code",
      "source": [
        "class Employee():\n",
        "  raise_amt = 1.04\n",
        "  def __init__(self, first, last, pay):\n",
        "    self.first = first\n",
        "    self.last = last\n",
        "    self.pay = pay\n",
        "    self.email = first + '.' + last + '@gmail.com'\n",
        "\n",
        "  def fullname(self):\n",
        "    return '{} {}'.format(self.first, self.last)\n",
        "\n",
        "\n",
        "  def apply_raise(self):\n",
        "    self.pay = int(self.pay * self.raise_amt)\n",
        "\n",
        "\n",
        "  def __repr__(self): # repr is meant to be an unambiguous representation of the object and be used for debugging and logging and str is meant to be seen by the end user.\n",
        "     return \"Employee('{}', '{}', '{}')\".format(self.first, self.last, self.pay)\n",
        "\n",
        "  def __str__(self):\n",
        "     return '{}, {}'.format(self.fullname(), self.email)\n",
        "\n",
        "emp1 = Employee(\"Corey\", \"Scafer\", 50000)\n",
        "emp2 = Employee(\"Test\", \"User\", 50000)\n",
        "\n",
        "print(emp1)"
      ],
      "metadata": {
        "colab": {
          "base_uri": "https://localhost:8080/"
        },
        "id": "bw1cwGEqgF4P",
        "outputId": "d2f966d0-9230-4f8f-bf4f-493830cf553d"
      },
      "execution_count": 29,
      "outputs": [
        {
          "output_type": "stream",
          "name": "stdout",
          "text": [
            "Corey Scafer, Corey.Scafer@gmail.com\n"
          ]
        }
      ]
    },
    {
      "cell_type": "code",
      "source": [
        "class Employee():\n",
        "  raise_amt = 1.04\n",
        "  def __init__(self, first, last, pay):\n",
        "    self.first = first\n",
        "    self.last = last\n",
        "    self.pay = pay\n",
        "    self.email = first + '.' + last + '@gmail.com'\n",
        "\n",
        "  def fullname(self):\n",
        "    return '{} {}'.format(self.first, self.last)\n",
        "\n",
        "\n",
        "  def apply_raise(self):\n",
        "    self.pay = int(self.pay * self.raise_amt)\n",
        "\n",
        "\n",
        "  def __repr__(self): # repr is meant to be an unambiguous representation of the object and be used for debugging and logging and str is meant to be seen by the end user.\n",
        "     return \"Employee('{}', '{}', '{}')\".format(self.first, self.last, self.pay)\n",
        "\n",
        "  def __str__(self):\n",
        "     return '{}, {}'.format(self.fullname(), self.email)\n",
        "\n",
        "emp1 = Employee(\"Corey\", \"Scafer\", 50000)\n",
        "emp2 = Employee(\"Test\", \"User\", 50000)\n",
        "\n",
        "print(repr(emp1))\n",
        "print(str(emp1))\n",
        "\n",
        "\n",
        "print(emp1.__repr__())\n",
        "print(emp1.__str__())"
      ],
      "metadata": {
        "colab": {
          "base_uri": "https://localhost:8080/"
        },
        "id": "k7p6sqrPgtgm",
        "outputId": "fcec6c64-0827-49f3-c97a-fe2ae7e49ffd"
      },
      "execution_count": 32,
      "outputs": [
        {
          "output_type": "stream",
          "name": "stdout",
          "text": [
            "Employee('Corey', 'Scafer', '50000')\n",
            "Corey Scafer, Corey.Scafer@gmail.com\n",
            "Employee('Corey', 'Scafer', '50000')\n",
            "Corey Scafer, Corey.Scafer@gmail.com\n"
          ]
        }
      ]
    },
    {
      "cell_type": "code",
      "source": [
        "class Employee():\n",
        "  raise_amt = 1.04\n",
        "  def __init__(self, first, last, pay):\n",
        "    self.first = first\n",
        "    self.last = last\n",
        "    self.pay = pay\n",
        "    self.email = first + '.' + last + '@gmail.com'\n",
        "\n",
        "  def fullname(self):\n",
        "    return '{} {}'.format(self.first, self.last)\n",
        "\n",
        "\n",
        "  def apply_raise(self):\n",
        "    self.pay = int(self.pay * self.raise_amt)\n",
        "\n",
        "\n",
        "  def __repr__(self): # repr is meant to be an unambiguous representation of the object and be used for debugging and logging and str is meant to be seen by the end user.\n",
        "     return \"Employee('{}', '{}', '{}')\".format(self.first, self.last, self.pay)\n",
        "\n",
        "  def __str__(self):\n",
        "     return '{}, {}'.format(self.fullname(), self.email)\n",
        "\n",
        "  def __add__(self, other):\n",
        "    return self.pay + other.pay\n",
        "\n",
        "\n",
        "emp1 = Employee(\"Corey\", \"Scafer\", 50000)\n",
        "emp2 = Employee(\"Test\", \"User\", 50000)\n",
        "\n",
        "print(emp1 + emp2)"
      ],
      "metadata": {
        "colab": {
          "base_uri": "https://localhost:8080/"
        },
        "id": "Ew0GAn2mg2Mu",
        "outputId": "f31b8f76-ae48-422d-f7ca-a1787f67764d"
      },
      "execution_count": 33,
      "outputs": [
        {
          "output_type": "stream",
          "name": "stdout",
          "text": [
            "100000\n"
          ]
        }
      ]
    },
    {
      "cell_type": "code",
      "source": [
        "print(len('test')) # uses a dunder method\n",
        "print('test'.__len__())"
      ],
      "metadata": {
        "colab": {
          "base_uri": "https://localhost:8080/"
        },
        "id": "mJgW8Hszhlk-",
        "outputId": "2c5b2c3f-6351-44b0-b6d2-265b3fcd1bed"
      },
      "execution_count": 35,
      "outputs": [
        {
          "output_type": "stream",
          "name": "stdout",
          "text": [
            "4\n",
            "4\n"
          ]
        }
      ]
    },
    {
      "cell_type": "markdown",
      "source": [
        "### Property Decorators: Getters, Setters and Deleters"
      ],
      "metadata": {
        "id": "H7sAvO8OihFG"
      }
    },
    {
      "cell_type": "code",
      "source": [
        "class Employee():\n",
        "\n",
        "  def __init__(self, first, last):\n",
        "    self.first = first\n",
        "    self.last = last\n",
        "    self.email = first + \".\" + last + \"@gmail.com\"\n",
        "    # self.pay = pay\n",
        "\n",
        "  def fullname(self):\n",
        "    return '{} {}'.format(self.first, self.last)\n",
        "\n",
        "emp1 = Employee('John', 'Smith')\n",
        "\n",
        "print(emp1.first)\n",
        "print(emp1.email)\n",
        "print(emp1.fullname())"
      ],
      "metadata": {
        "colab": {
          "base_uri": "https://localhost:8080/"
        },
        "id": "sTQigh7RigmG",
        "outputId": "679072ff-167a-4a24-ead1-c80c8be173e1"
      },
      "execution_count": 36,
      "outputs": [
        {
          "output_type": "stream",
          "name": "stdout",
          "text": [
            "John\n",
            "John.Smith@gmail.com\n",
            "John Smith\n"
          ]
        }
      ]
    },
    {
      "cell_type": "code",
      "source": [
        "class Employee():\n",
        "\n",
        "  def __init__(self, first, last):\n",
        "    self.first = first\n",
        "    self.last = last\n",
        "\n",
        "    # self.pay = pay\n",
        "  @property\n",
        "  def email(self):\n",
        "    return '{}.{}@gmail.com'.format(self.first, self.last)\n",
        "\n",
        "  @property\n",
        "  def fullname(self):\n",
        "    return '{} {}'.format(self.first, self.last)\n",
        "\n",
        "  @fullname.setter\n",
        "  def fullname(self, name):\n",
        "    first, last = name.split(' ')\n",
        "    self.first = first\n",
        "    self.last = last\n",
        "\n",
        "  @fullname.deleter\n",
        "  def fullname(self):\n",
        "    print('Deleted Name')\n",
        "    self.first = None\n",
        "    self.last = None\n",
        "\n",
        "emp1 = Employee('John', 'Smith')\n",
        "\n",
        "emp1.fullname = 'Corey Schafer'\n",
        "\n",
        "print(emp1.first)\n",
        "print(emp1.email)\n",
        "print(emp1.fullname)\n",
        "\n",
        "del emp1.fullname"
      ],
      "metadata": {
        "colab": {
          "base_uri": "https://localhost:8080/"
        },
        "id": "QQW4FE3yjUrT",
        "outputId": "015d0134-352c-406b-d6f8-0250ec0c26eb"
      },
      "execution_count": 39,
      "outputs": [
        {
          "output_type": "stream",
          "name": "stdout",
          "text": [
            "Corey\n",
            "Corey.Schafer@gmail.com\n",
            "Corey Schafer\n",
            "Deleted Name\n"
          ]
        }
      ]
    },
    {
      "cell_type": "code",
      "source": [],
      "metadata": {
        "id": "wQPrB-Esrnsp"
      },
      "execution_count": null,
      "outputs": []
    }
  ]
}