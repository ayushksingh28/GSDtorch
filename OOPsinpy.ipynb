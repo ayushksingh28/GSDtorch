{
  "nbformat": 4,
  "nbformat_minor": 0,
  "metadata": {
    "colab": {
      "provenance": [],
      "authorship_tag": "ABX9TyOdipYiGhXMitKd1XiGKVC5",
      "include_colab_link": true
    },
    "kernelspec": {
      "name": "python3",
      "display_name": "Python 3"
    },
    "language_info": {
      "name": "python"
    }
  },
  "cells": [
    {
      "cell_type": "markdown",
      "metadata": {
        "id": "view-in-github",
        "colab_type": "text"
      },
      "source": [
        "<a href=\"https://colab.research.google.com/github/greymini/GSDpy-torch/blob/main/OOPsinpy.ipynb\" target=\"_parent\"><img src=\"https://colab.research.google.com/assets/colab-badge.svg\" alt=\"Open In Colab\"/></a>"
      ]
    },
    {
      "cell_type": "markdown",
      "source": [
        "### Classes and Instances"
      ],
      "metadata": {
        "id": "zA7LdH12dXk0"
      }
    },
    {
      "cell_type": "code",
      "execution_count": 1,
      "metadata": {
        "colab": {
          "base_uri": "https://localhost:8080/"
        },
        "id": "MtFSScjIbDlM",
        "outputId": "983119a2-9483-4732-91ed-22712e0fd3fe"
      },
      "outputs": [
        {
          "output_type": "stream",
          "name": "stdout",
          "text": [
            "Corey.Scafer@company.com\n",
            "Test.User@company.com\n"
          ]
        }
      ],
      "source": [
        "class Employee: ## class method\n",
        "  def __init__(self, first, last, pay): ## __init__ is the initialization of the class or maybe in terms of other languages it's a constructor\n",
        "    self.first = first # instance variables which are unique to every instance.\n",
        "    self.last = last\n",
        "    self.pay = pay\n",
        "    self.email = first + \".\" + last + \"@company.com\"\n",
        "\n",
        "  def fullname(self): ## taking instance of the class as the first argument and that's all that you will need\n",
        "    return \"{} {}\".format(self.first, self.last)\n",
        "\n",
        "\n",
        "\n",
        "emp1 = Employee(\"Corey\", \"Scafer\", 40000)\n",
        "emp2 = Employee(\"Test\", \"User\", 50000)\n",
        "\n",
        "print(emp1.email)\n",
        "print(emp2.email)"
      ]
    },
    {
      "cell_type": "code",
      "source": [
        "print(emp1.fullname()) ## an instance and calling a method then I don't need to pass in self, it runs itself."
      ],
      "metadata": {
        "colab": {
          "base_uri": "https://localhost:8080/"
        },
        "id": "4MgDJzrWe6Z0",
        "outputId": "15dff614-8599-456f-aec8-c3114891d2f4"
      },
      "execution_count": 2,
      "outputs": [
        {
          "output_type": "stream",
          "name": "stdout",
          "text": [
            "Corey Scafer\n"
          ]
        }
      ]
    },
    {
      "cell_type": "code",
      "source": [
        "Employee.fullname(emp1) ## when we run the method on a class then it doesn't know which instance to run on that method."
      ],
      "metadata": {
        "colab": {
          "base_uri": "https://localhost:8080/",
          "height": 35
        },
        "id": "pPSJot4HgChJ",
        "outputId": "903150aa-13f9-4ecd-a585-5ec0b544ec81"
      },
      "execution_count": 3,
      "outputs": [
        {
          "output_type": "execute_result",
          "data": {
            "text/plain": [
              "'Corey Scafer'"
            ],
            "application/vnd.google.colaboratory.intrinsic+json": {
              "type": "string"
            }
          },
          "metadata": {},
          "execution_count": 3
        }
      ]
    },
    {
      "cell_type": "code",
      "source": [
        "class Employee: ## class method\n",
        "\n",
        "  raise_amount = 1.04\n",
        "  def __init__(self, first, last, pay): ## __init__ is the initialization of the class or maybe in terms of other languages it's a constructor\n",
        "    self.first = first # instance variables which are unique to every instance.\n",
        "    self.last = last\n",
        "    self.pay = pay\n",
        "    self.email = first + \".\" + last + \"@company.com\"\n",
        "\n",
        "  def fullname(self): ## taking instance of the class as the first argument and that's all that you will need\n",
        "    return \"{} {}\".format(self.first, self.last)\n",
        "\n",
        "  def apply_raise(self):\n",
        "    self.pay = int(self.pay * self.raise_amount)\n",
        "\n",
        "\n",
        "\n",
        "emp1 = Employee(\"Corey\", \"Scafer\", 50000)\n",
        "emp2 = Employee(\"Test\", \"User\", 50000)"
      ],
      "metadata": {
        "id": "-cWeck1fg8Jj"
      },
      "execution_count": 4,
      "outputs": []
    },
    {
      "cell_type": "code",
      "source": [
        "print(emp1.pay)"
      ],
      "metadata": {
        "colab": {
          "base_uri": "https://localhost:8080/"
        },
        "id": "EjVZPht_HWMc",
        "outputId": "f28d702f-c2c5-4833-e8a3-ed67c135e81b"
      },
      "execution_count": 5,
      "outputs": [
        {
          "output_type": "stream",
          "name": "stdout",
          "text": [
            "50000\n"
          ]
        }
      ]
    },
    {
      "cell_type": "code",
      "source": [
        "emp1.apply_raise()\n",
        "print(emp1.pay)"
      ],
      "metadata": {
        "colab": {
          "base_uri": "https://localhost:8080/"
        },
        "id": "i84PGCt2HYhL",
        "outputId": "9da0a9f6-ab05-45e8-fa9a-ba7ce7012a09"
      },
      "execution_count": 6,
      "outputs": [
        {
          "output_type": "stream",
          "name": "stdout",
          "text": [
            "52000\n"
          ]
        }
      ]
    },
    {
      "cell_type": "code",
      "source": [
        "print(Employee.raise_amount)\n",
        "print(emp1.raise_amount)\n",
        "print(emp2.raise_amount)\n",
        "## Whenever we raise an attribute to an instance, it checks whether that instance has that attribute, in case of a no. It checks if the class has that attribute."
      ],
      "metadata": {
        "colab": {
          "base_uri": "https://localhost:8080/"
        },
        "id": "rwevDlGCI2aM",
        "outputId": "8cc4fdaa-e30a-418d-87f0-e9ff6c630433"
      },
      "execution_count": 7,
      "outputs": [
        {
          "output_type": "stream",
          "name": "stdout",
          "text": [
            "1.04\n",
            "1.04\n",
            "1.04\n"
          ]
        }
      ]
    },
    {
      "cell_type": "code",
      "source": [
        "class Employee: ## class method\n",
        "\n",
        "  raise_amount = 1.04\n",
        "  def __init__(self, first, last, pay): ## __init__ is the initialization of the class or maybe in terms of other languages it's a constructor\n",
        "    self.first = first # instance variables which are unique to every instance.\n",
        "    self.last = last\n",
        "    self.pay = pay\n",
        "    self.email = first + \".\" + last + \"@company.com\"\n",
        "\n",
        "  def fullname(self): ## taking instance of the class as the first argument and that's all that you will need\n",
        "    return \"{} {}\".format(self.first, self.last)\n",
        "\n",
        "  def apply_raise(self):\n",
        "    self.pay = int(self.pay * self.raise_amount)\n",
        "\n",
        "\n",
        "\n",
        "emp1 = Employee(\"Corey\", \"Scafer\", 50000)\n",
        "emp2 = Employee(\"Test\", \"User\", 50000)\n",
        "\n",
        "\n",
        "Employee.raise_amount = 1.05\n",
        "\n",
        "print(Employee.raise_amount)\n",
        "print(emp1.raise_amount)\n",
        "print(emp2.raise_amount)"
      ],
      "metadata": {
        "colab": {
          "base_uri": "https://localhost:8080/"
        },
        "id": "TDVKk9E8JtH4",
        "outputId": "5c15292c-d552-4b54-d2e9-c4bc9705dc6a"
      },
      "execution_count": 8,
      "outputs": [
        {
          "output_type": "stream",
          "name": "stdout",
          "text": [
            "1.05\n",
            "1.05\n",
            "1.05\n"
          ]
        }
      ]
    },
    {
      "cell_type": "code",
      "source": [
        "class Employee: ## class method\n",
        "\n",
        "  raise_amount = 1.04\n",
        "  def __init__(self, first, last, pay): ## __init__ is the initialization of the class or maybe in terms of other languages it's a constructor\n",
        "    self.first = first # instance variables which are unique to every instance.\n",
        "    self.last = last\n",
        "    self.pay = pay\n",
        "    self.email = first + \".\" + last + \"@company.com\"\n",
        "\n",
        "  def fullname(self): ## taking instance of the class as the first argument and that's all that you will need\n",
        "    return \"{} {}\".format(self.first, self.last)\n",
        "\n",
        "  def apply_raise(self):\n",
        "    self.pay = int(self.pay * self.raise_amount)\n",
        "\n",
        "\n",
        "\n",
        "emp1 = Employee(\"Corey\", \"Scafer\", 50000)\n",
        "emp2 = Employee(\"Test\", \"User\", 50000)\n",
        "\n",
        "emp1.raise_amount = 1.05\n",
        "\n",
        "print(Employee.raise_amount)\n",
        "print(emp1.raise_amount)\n",
        "print(emp2.raise_amount)"
      ],
      "metadata": {
        "colab": {
          "base_uri": "https://localhost:8080/"
        },
        "id": "xojwsVHJK5BC",
        "outputId": "8a0b7e6f-9c48-4599-cbcd-b27695acc2c5"
      },
      "execution_count": 9,
      "outputs": [
        {
          "output_type": "stream",
          "name": "stdout",
          "text": [
            "1.04\n",
            "1.05\n",
            "1.04\n"
          ]
        }
      ]
    },
    {
      "cell_type": "code",
      "source": [
        "print(emp1.__dict__)"
      ],
      "metadata": {
        "colab": {
          "base_uri": "https://localhost:8080/"
        },
        "id": "uFkaG6nILOSP",
        "outputId": "d2ec8cea-d758-46c1-efc2-27b6428a15ed"
      },
      "execution_count": 10,
      "outputs": [
        {
          "output_type": "stream",
          "name": "stdout",
          "text": [
            "{'first': 'Corey', 'last': 'Scafer', 'pay': 50000, 'email': 'Corey.Scafer@company.com', 'raise_amount': 1.05}\n"
          ]
        }
      ]
    },
    {
      "cell_type": "code",
      "source": [
        "class Employee: ## class method\n",
        "  num_of_emps = 0\n",
        "  raise_amount = 1.04\n",
        "  def __init__(self, first, last, pay): ## __init__ is the initialization of the class or maybe in terms of other languages it's a constructor\n",
        "    self.first = first # instance variables which are unique to every instance.\n",
        "    self.last = last\n",
        "    self.pay = pay\n",
        "    self.email = first + \".\" + last + \"@company.com\"\n",
        "\n",
        "    Employee.num_of_emps +=1 ## class variables\n",
        "\n",
        "\n",
        "  def fullname(self): ## taking instance of the class as the first argument and that's all that you will need\n",
        "    return \"{} {}\".format(self.first, self.last)\n",
        "\n",
        "  def apply_raise(self):\n",
        "    self.pay = int(self.pay * self.raise_amount)\n",
        "\n",
        "\n",
        "\n",
        "emp1 = Employee(\"Corey\", \"Scafer\", 50000)\n",
        "emp2 = Employee(\"Test\", \"User\", 50000)"
      ],
      "metadata": {
        "id": "k9K4zW4-LUJ0"
      },
      "execution_count": 11,
      "outputs": []
    },
    {
      "cell_type": "code",
      "source": [
        "print(Employee.num_of_emps)"
      ],
      "metadata": {
        "colab": {
          "base_uri": "https://localhost:8080/"
        },
        "id": "5pPAzKgVLubN",
        "outputId": "90ddddc9-ee03-4431-a048-e6ada500d9d8"
      },
      "execution_count": 12,
      "outputs": [
        {
          "output_type": "stream",
          "name": "stdout",
          "text": [
            "2\n"
          ]
        }
      ]
    },
    {
      "cell_type": "markdown",
      "source": [
        "### Regular Methods, Class Methods and Static Methods"
      ],
      "metadata": {
        "id": "3-R_QPJQMD11"
      }
    },
    {
      "cell_type": "code",
      "source": [
        "class Employee: ## class method\n",
        "\n",
        "  raise_amount = 1.04\n",
        "  def __init__(self, first, last, pay): ## __init__ is the initialization of the class or maybe in terms of other languages it's a constructor\n",
        "    self.first = first # instance variables which are unique to every instance.\n",
        "    self.last = last\n",
        "    self.pay = pay\n",
        "    self.email = first + \".\" + last + \"@company.com\"\n",
        "\n",
        "  def fullname(self): ## taking instance of the class as the first argument and that's all that you will need\n",
        "    return \"{} {}\".format(self.first, self.last)\n",
        "\n",
        "  def apply_raise(self):\n",
        "    self.pay = int(self.pay * self.raise_amount)\n",
        "\n",
        "  @classmethod ## class method which just overrides shit and gives direct access to change the attributes in a class\n",
        "  def set_raise_amount(cls, amount):\n",
        "    cls.raise_amount = amount\n",
        "\n",
        "\n",
        "Employee.set_raise_amount(1.07)\n",
        "\n",
        "\n",
        "emp1 = Employee(\"Corey\", \"Scafer\", 50000)\n",
        "emp2 = Employee(\"Test\", \"User\", 50000)\n",
        "\n",
        "print(Employee.raise_amount)\n",
        "print(emp1.raise_amount)\n",
        "print(emp2.raise_amount)"
      ],
      "metadata": {
        "colab": {
          "base_uri": "https://localhost:8080/"
        },
        "id": "yBRzoc_QLzPx",
        "outputId": "eac31834-7061-4541-f03a-30f61ad87f83"
      },
      "execution_count": 13,
      "outputs": [
        {
          "output_type": "stream",
          "name": "stdout",
          "text": [
            "1.07\n",
            "1.07\n",
            "1.07\n"
          ]
        }
      ]
    },
    {
      "cell_type": "code",
      "source": [
        "class Employee: ## class method\n",
        "\n",
        "  raise_amount = 1.04\n",
        "  def __init__(self, first, last, pay): ## __init__ is the initialization of the class or maybe in terms of other languages it's a constructor\n",
        "    self.first = first # instance variables which are unique to every instance.\n",
        "    self.last = last\n",
        "    self.pay = pay\n",
        "    self.email = first + \".\" + last + \"@company.com\"\n",
        "\n",
        "  def fullname(self): ## taking instance of the class as the first argument and that's all that you will need\n",
        "    return \"{} {}\".format(self.first, self.last)\n",
        "\n",
        "  def apply_raise(self):\n",
        "    self.pay = int(self.pay * self.raise_amount)\n",
        "\n",
        "\n",
        "  @classmethod\n",
        "  def set_raise_amount(cls, amount):\n",
        "    cls.raise_amount = amount\n",
        "\n",
        "\n",
        "emp1 = Employee(\"Corey\", \"Scafer\", 50000)\n",
        "emp2 = Employee(\"Test\", \"User\", 50000)\n",
        "\n",
        "\n",
        "emp1.set_raise_amount(1.08) # run the class method from the instance and it changes the attribute value for all the instances\n",
        "\n",
        "print(Employee.raise_amount)\n",
        "print(emp1.raise_amount)\n",
        "print(emp2.raise_amount)"
      ],
      "metadata": {
        "colab": {
          "base_uri": "https://localhost:8080/"
        },
        "id": "mJAq8c7EN6WH",
        "outputId": "5ab31155-b482-44e3-e575-8ce38ef41608"
      },
      "execution_count": 14,
      "outputs": [
        {
          "output_type": "stream",
          "name": "stdout",
          "text": [
            "1.08\n",
            "1.08\n",
            "1.08\n"
          ]
        }
      ]
    },
    {
      "cell_type": "code",
      "source": [
        "class Employee: ## class method\n",
        "\n",
        "  raise_amount = 1.04\n",
        "  def __init__(self, first, last, pay): ## __init__ is the initialization of the class or maybe in terms of other languages it's a constructor\n",
        "    self.first = first # instance variables which are unique to every instance.\n",
        "    self.last = last\n",
        "    self.pay = pay\n",
        "    self.email = first + \".\" + last + \"@company.com\"\n",
        "\n",
        "  def fullname(self): ## taking instance of the class as the first argument and that's all that you will need\n",
        "    return \"{} {}\".format(self.first, self.last)\n",
        "\n",
        "  def apply_raise(self):\n",
        "    self.pay = int(self.pay * self.raise_amount)\n",
        "\n",
        "\n",
        "  @classmethod\n",
        "  def set_raise_amount(cls, amount):\n",
        "    cls.raise_amount = amount\n",
        "\n",
        "  @classmethod\n",
        "  def from_string(cls, emp_str):\n",
        "    first, last, pay = emp_str.split('-')\n",
        "    return cls(first, last, pay)\n",
        "\n",
        "\n",
        "emp1 = Employee(\"Corey\", \"Scafer\", 50000)\n",
        "emp2 = Employee(\"Test\", \"User\", 50000)\n",
        "\n",
        "emp_str_1 = 'Johni-Doe-70000'\n",
        "emp_str_2 = 'Steve-Smith-300000'\n",
        "emp_str_3 = 'Jane-Doe-90000'\n",
        "\n",
        "new_emp_1 = Employee.from_string(emp_str_1)\n",
        "\n",
        "print(new_emp_1.first)\n",
        "print(new_emp_1.pay)"
      ],
      "metadata": {
        "colab": {
          "base_uri": "https://localhost:8080/"
        },
        "id": "-yUVeSf7PXGe",
        "outputId": "c2511f55-901e-4ed6-e3b6-d8d12fff4265"
      },
      "execution_count": 15,
      "outputs": [
        {
          "output_type": "stream",
          "name": "stdout",
          "text": [
            "Johni\n",
            "70000\n"
          ]
        }
      ]
    },
    {
      "cell_type": "code",
      "source": [
        "# additional constructors\n",
        "@classmethod\n",
        "def fromtimestamp(cls, t):\n",
        "  #Contruct a date from POSIX timestamp (like time.time())\n",
        "  y, m, d, hh, mm, ss, weekday, jday, dst = _time.localtime(t)\n",
        "\n",
        "  return cls(y, m, d)\n",
        "\n",
        "@classmethod\n",
        "def today(cls):\n",
        "  # Construct a date from time.time\n",
        "  t = _time.time()\n",
        "  return cls.fromtimestamp(t)\n",
        "\n"
      ],
      "metadata": {
        "id": "BP7BdqXXZc7y"
      },
      "execution_count": 16,
      "outputs": []
    },
    {
      "cell_type": "code",
      "source": [
        "# regular methods automatically pass the instance as the first argument which is called \"self\",\n",
        "# and class methods automatically pass the class and static methods don't pass anything."
      ],
      "metadata": {
        "id": "i2NL-gO7apQ6"
      },
      "execution_count": 17,
      "outputs": []
    },
    {
      "cell_type": "code",
      "source": [
        "class Employee: ## class method\n",
        "\n",
        "  raise_amount = 1.04\n",
        "  def __init__(self, first, last, pay): ## __init__ is the initialization of the class or maybe in terms of other languages it's a constructor\n",
        "    self.first = first # instance variables which are unique to every instance.\n",
        "    self.last = last\n",
        "    self.pay = pay\n",
        "    self.email = first + \".\" + last + \"@company.com\"\n",
        "\n",
        "  def fullname(self): ## taking instance of the class as the first argument and that's all that you will need\n",
        "    return \"{} {}\".format(self.first, self.last)\n",
        "\n",
        "  def apply_raise(self):\n",
        "    self.pay = int(self.pay * self.raise_amount)\n",
        "\n",
        "  @classmethod\n",
        "  def set_raise_amount(cls, amount):\n",
        "    cls.raise_amount = amount\n",
        "\n",
        "  @classmethod\n",
        "  def from_string(cls, emp_str):\n",
        "    first, last, pay = emp_str.split('-')\n",
        "    return cls(first, last, pay)\n",
        "\n",
        "  @staticmethod\n",
        "  def is_workday(day):\n",
        "    if day.weekday() == 5 or day.weekday() == 6:\n",
        "      return False\n",
        "\n",
        "    return True\n",
        "\n",
        "import datetime\n",
        "\n",
        "my_date = datetime.date(2016, 7, 11)\n",
        "\n",
        "print(Employee.is_workday(my_date))\n"
      ],
      "metadata": {
        "colab": {
          "base_uri": "https://localhost:8080/"
        },
        "id": "Cdpiqgpwbk7R",
        "outputId": "a07b952f-734a-442e-8daa-d59181613a42"
      },
      "execution_count": 19,
      "outputs": [
        {
          "output_type": "stream",
          "name": "stdout",
          "text": [
            "True\n"
          ]
        }
      ]
    },
    {
      "cell_type": "markdown",
      "source": [
        "### Inheritance: Creating Subclasses"
      ],
      "metadata": {
        "id": "49x6B5v1grWS"
      }
    },
    {
      "cell_type": "code",
      "source": [
        "class Employee():\n",
        "  raise_amt = 1.04\n",
        "  def __init__(self, first, last, pay):\n",
        "    self.first = first\n",
        "    self.last = last\n",
        "    self.pay = pay\n",
        "    self.email = first + '.' + last + '@gmail.com'\n",
        "\n",
        "  def fullname(self):\n",
        "    return '{} {}'.format(self.first, self.last)\n",
        "\n",
        "\n",
        "  def apply_raise(self):\n",
        "    self.pay = int(self.pay * self.raise_amt)\n",
        "\n",
        "\n",
        "class Developer(Employee):\n",
        "  pass\n",
        "\n",
        "dev_1 = Developer(\"Ayush\", \"Singh\", 50000)\n",
        "dev_2 = Developer(\"Anuj\", \"Kumar\", 60000)"
      ],
      "metadata": {
        "id": "vxJvB2lne4N-"
      },
      "execution_count": 20,
      "outputs": []
    },
    {
      "cell_type": "code",
      "source": [
        "print(dev_1.email)\n",
        "print(dev_2.email)"
      ],
      "metadata": {
        "colab": {
          "base_uri": "https://localhost:8080/"
        },
        "id": "2qMveAPNiI4g",
        "outputId": "38f7b5fd-2984-4bd0-c846-89d20c878183"
      },
      "execution_count": 21,
      "outputs": [
        {
          "output_type": "stream",
          "name": "stdout",
          "text": [
            "Ayush.Singh@gmail.com\n",
            "Anuj.Kumar@gmail.com\n"
          ]
        }
      ]
    },
    {
      "cell_type": "code",
      "source": [
        "print(help(Developer))"
      ],
      "metadata": {
        "colab": {
          "base_uri": "https://localhost:8080/"
        },
        "id": "mxg4LGMtjHFn",
        "outputId": "179a8151-adaf-4069-93ec-727eb78841a9"
      },
      "execution_count": 22,
      "outputs": [
        {
          "output_type": "stream",
          "name": "stdout",
          "text": [
            "Help on class Developer in module __main__:\n",
            "\n",
            "class Developer(Employee)\n",
            " |  Developer(first, last, pay)\n",
            " |  \n",
            " |  Method resolution order:\n",
            " |      Developer\n",
            " |      Employee\n",
            " |      builtins.object\n",
            " |  \n",
            " |  Methods inherited from Employee:\n",
            " |  \n",
            " |  __init__(self, first, last, pay)\n",
            " |      Initialize self.  See help(type(self)) for accurate signature.\n",
            " |  \n",
            " |  apply_raise(self)\n",
            " |  \n",
            " |  fullname(self)\n",
            " |  \n",
            " |  ----------------------------------------------------------------------\n",
            " |  Data descriptors inherited from Employee:\n",
            " |  \n",
            " |  __dict__\n",
            " |      dictionary for instance variables (if defined)\n",
            " |  \n",
            " |  __weakref__\n",
            " |      list of weak references to the object (if defined)\n",
            " |  \n",
            " |  ----------------------------------------------------------------------\n",
            " |  Data and other attributes inherited from Employee:\n",
            " |  \n",
            " |  raise_amt = 1.04\n",
            "\n",
            "None\n"
          ]
        }
      ]
    },
    {
      "cell_type": "code",
      "source": [
        "class Employee():\n",
        "  raise_amt = 1.04\n",
        "  def __init__(self, first, last, pay):\n",
        "    self.first = first\n",
        "    self.last = last\n",
        "    self.pay = pay\n",
        "    self.email = first + '.' + last + '@gmail.com'\n",
        "\n",
        "  def fullname(self):\n",
        "    return '{} {}'.format(self.first, self.last)\n",
        "\n",
        "\n",
        "  def apply_raise(self):\n",
        "    self.pay = int(self.pay * self.raise_amt)\n",
        "\n",
        "\n",
        "class Developer(Employee):\n",
        "  raise_amt = 1.10\n",
        "  def __init__(self, first, last, pay, prog_lang):\n",
        "    super().__init__(first, last, pay)\n",
        "    self.prog_lang = prog_lang\n",
        "\n",
        "\n",
        "dev_1 = Developer(\"Ayush\", \"Singh\", 50000, 'Python')\n",
        "dev_2 = Developer(\"Anuj\", \"Kumar\", 60000, 'Java')"
      ],
      "metadata": {
        "id": "1nlzUZMdjVpj"
      },
      "execution_count": 24,
      "outputs": []
    },
    {
      "cell_type": "code",
      "source": [
        "print(dev_1.email)\n",
        "print(dev_2.prog_lang)"
      ],
      "metadata": {
        "colab": {
          "base_uri": "https://localhost:8080/"
        },
        "id": "IjI_3QFdmFrd",
        "outputId": "d15021b4-ec1c-4b66-a21c-688357234790"
      },
      "execution_count": 25,
      "outputs": [
        {
          "output_type": "stream",
          "name": "stdout",
          "text": [
            "Ayush.Singh@gmail.com\n",
            "Java\n"
          ]
        }
      ]
    },
    {
      "cell_type": "code",
      "source": [
        "class Employee():\n",
        "  raise_amt = 1.04\n",
        "  def __init__(self, first, last, pay):\n",
        "    self.first = first\n",
        "    self.last = last\n",
        "    self.pay = pay\n",
        "    self.email = first + '.' + last + '@gmail.com'\n",
        "\n",
        "  def fullname(self):\n",
        "    return '{} {}'.format(self.first, self.last)\n",
        "\n",
        "\n",
        "  def apply_raise(self):\n",
        "    self.pay = int(self.pay * self.raise_amt)\n",
        "\n",
        "\n",
        "class Developer(Employee):\n",
        "  raise_amt = 1.10\n",
        "  def __init__(self, first, last, pay, prog_lang):\n",
        "    super().__init__(first, last, pay)\n",
        "    self.prog_lang = prog_lang\n",
        "\n",
        "\n",
        "class Manager(Employee):\n",
        "  def __init__(self, first, last, pay, employees = None):\n",
        "    super().__init__(first, last, pay)\n",
        "    if employees is None:\n",
        "      self.employees = []\n",
        "\n",
        "    else:\n",
        "      self.employees = employees\n",
        "\n",
        "  def add_emp(self, emp):\n",
        "    if emp not in self.employees:\n",
        "      self.employees.append(emp)\n",
        "\n",
        "  def remove_emp(self, emp):\n",
        "    if emp in self.employees:\n",
        "      self.employees.remove(emp)\n",
        "\n",
        "  def print_emp(self):\n",
        "    for emp in self.employees:\n",
        "      print(\"-->\", emp.fullname())\n",
        "\n",
        "dev_1 = Developer(\"Ayush\", \"Singh\", 50000, 'Python')\n",
        "dev_2 = Developer(\"Anuj\", \"Kumar\", 60000, 'Java')\n",
        "\n",
        "\n",
        "mgr_1 = Manager('Sushi', \"Khalo\", 90000, [dev_1])\n",
        "\n",
        "print(mgr_1.email)\n",
        "print(mgr_1.print_emp())\n"
      ],
      "metadata": {
        "colab": {
          "base_uri": "https://localhost:8080/"
        },
        "id": "O9AjIZKCmPKX",
        "outputId": "93e45f56-cf7c-4e55-9883-cf63d67da594"
      },
      "execution_count": 29,
      "outputs": [
        {
          "output_type": "stream",
          "name": "stdout",
          "text": [
            "Sushi.Khalo@gmail.com\n",
            "--> Ayush Singh\n",
            "None\n"
          ]
        }
      ]
    },
    {
      "cell_type": "code",
      "source": [
        "mgr_1.print_emp()"
      ],
      "metadata": {
        "colab": {
          "base_uri": "https://localhost:8080/"
        },
        "id": "8yfTmj7do6_7",
        "outputId": "4b1f5fdb-0ad0-4503-a0be-c3518f1e3327"
      },
      "execution_count": 28,
      "outputs": [
        {
          "output_type": "stream",
          "name": "stdout",
          "text": [
            "--> Ayush Singh\n"
          ]
        }
      ]
    },
    {
      "cell_type": "code",
      "source": [
        "print(isinstance(mgr_1, Developer))"
      ],
      "metadata": {
        "colab": {
          "base_uri": "https://localhost:8080/"
        },
        "id": "ZXSRHBd8pDGC",
        "outputId": "12108e93-b346-4725-afa6-215ee661508c"
      },
      "execution_count": 32,
      "outputs": [
        {
          "output_type": "stream",
          "name": "stdout",
          "text": [
            "False\n"
          ]
        }
      ]
    },
    {
      "cell_type": "code",
      "source": [
        "print(issubclass(Developer, Employee))"
      ],
      "metadata": {
        "colab": {
          "base_uri": "https://localhost:8080/"
        },
        "id": "-1QEfJq4pq6o",
        "outputId": "2a4b549a-fe3e-45aa-9eb7-244bd60ac0b4"
      },
      "execution_count": 33,
      "outputs": [
        {
          "output_type": "stream",
          "name": "stdout",
          "text": [
            "True\n"
          ]
        }
      ]
    },
    {
      "cell_type": "markdown",
      "source": [
        "### Special Methods"
      ],
      "metadata": {
        "id": "6UAnq4v4CN23"
      }
    },
    {
      "cell_type": "code",
      "source": [
        "class Employee():\n",
        "  raise_amt = 1.04\n",
        "  def __init__(self, first, last, pay):\n",
        "    self.first = first\n",
        "    self.last = last\n",
        "    self.pay = pay\n",
        "    self.email = first + '.' + last + '@gmail.com'\n",
        "\n",
        "  def fullname(self):\n",
        "    return '{} {}'.format(self.first, self.last)\n",
        "\n",
        "\n",
        "  def apply_raise(self):\n",
        "    self.pay = int(self.pay * self.raise_amt)\n",
        "\n",
        ""
      ],
      "metadata": {
        "id": "oWwYYFfFpwTX"
      },
      "execution_count": null,
      "outputs": []
    }
  ]
}