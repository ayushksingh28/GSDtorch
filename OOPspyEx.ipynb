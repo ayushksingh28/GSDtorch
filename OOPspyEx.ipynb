{
  "nbformat": 4,
  "nbformat_minor": 0,
  "metadata": {
    "colab": {
      "provenance": []
    },
    "kernelspec": {
      "name": "python3",
      "display_name": "Python 3"
    },
    "language_info": {
      "name": "python"
    }
  },
  "cells": [
    {
      "cell_type": "code",
      "execution_count": 4,
      "metadata": {
        "colab": {
          "base_uri": "https://localhost:8080/"
        },
        "id": "RhBPWq7Ytxyp",
        "outputId": "fadb5713-7ab1-4b0a-f06b-30a13b1a3ecf"
      },
      "outputs": [
        {
          "output_type": "stream",
          "name": "stdout",
          "text": [
            "240 18\n"
          ]
        }
      ],
      "source": [
        "# Q1: Create a vehivle class with max_speed and mileage insatnce attributes\n",
        "\n",
        "class Vehicle:\n",
        "\n",
        "  def __init__(self, max_speed, mileage):\n",
        "    self.max_speed = max_speed\n",
        "    self.mileage = mileage\n",
        "\n",
        "car = Vehicle(240, 18)\n",
        "print(car.max_speed, car.mileage)"
      ]
    },
    {
      "cell_type": "code",
      "source": [
        "# Q2: Create a vehicle class without and variables and methods\n",
        "\n",
        "class vehicle:\n",
        "  pass"
      ],
      "metadata": {
        "id": "LcEmihMHxEq7"
      },
      "execution_count": 5,
      "outputs": []
    },
    {
      "cell_type": "code",
      "source": [
        "# Q3: Create child class Bus that will inherit all of the variables and methods of the Vehicle class\n",
        "\n",
        "class Vehicle:\n",
        "  def __init__(self, max_speed, mileage):\n",
        "    self.max_speed = max_speed\n",
        "    self.mileage = mileage\n",
        "\n",
        "class Bus(Vehicle):\n",
        "  pass"
      ],
      "metadata": {
        "id": "TBY67oBYxQRg"
      },
      "execution_count": 6,
      "outputs": []
    },
    {
      "cell_type": "code",
      "source": [
        "# Q4: Class Inheritance\n",
        "\n",
        "#Given:\n",
        "\n",
        "#Create a Bus class that inherits from the Vehicle class. Give the capacity argument of Bus.seating_capacity() a default value of 50.\n",
        "\n",
        "#Use the following code for your parent Vehicle class. You need to use method overriding.\n",
        "\n",
        "class Vehicle:\n",
        "  def __init__(self, name, max_speed, mileage):\n",
        "    self.max_speed = max_speed\n",
        "    self.mileage = mileage\n",
        "    self.name = name\n",
        "\n",
        "  def seating_capacity(self, capacity):\n",
        "    return f\"The seating capacity of the bus is {capacity}\"\n",
        "\n",
        "class Bus(Vehicle):\n",
        "\n",
        "  def seating_capacity(self, capacity=50):\n",
        "    return f\"The seating capacity of {self.name} is {capacity} passengers\"\n",
        "\n",
        "bus = Bus('Volvo', 180, 12)\n",
        "print(bus.seating_capacity())\n"
      ],
      "metadata": {
        "colab": {
          "base_uri": "https://localhost:8080/"
        },
        "id": "7vl7KQR4x6e-",
        "outputId": "567b3000-e8a1-44c4-b862-8c7ec0e4b891"
      },
      "execution_count": 9,
      "outputs": [
        {
          "output_type": "stream",
          "name": "stdout",
          "text": [
            "The seating capacity of Volvo is 50 passengers\n"
          ]
        }
      ]
    },
    {
      "cell_type": "code",
      "source": [
        "# Q5: Define property that should have the same value for every class instance\n",
        "\n",
        "# Define a class attribute”color” with a default value white. I.e., Every Vehicle should be white.\n",
        "\n",
        "# Use the following code for this exercise.\n",
        "\n",
        "class Vehicle:\n",
        "  color = 'white'\n",
        "  def __init__(self, name, max_speed, mileage):\n",
        "    self.max_speed = max_speed\n",
        "    self.mileage = mileage\n",
        "    self.name = name\n",
        "\n",
        "  def seating_capacity(self, capacity):\n",
        "    return f\"The seating capacity of the bus is {capacity}\"\n",
        "\n",
        "class Bus(Vehicle):\n",
        "\n",
        "  def seating_capacity(self, capacity=50):\n",
        "    return f\"The seating capacity of {self.name} is {capacity} passengers\"\n",
        "\n",
        "class Car(Vehicle):\n",
        "  pass\n",
        "\n",
        "Bus.color"
      ],
      "metadata": {
        "colab": {
          "base_uri": "https://localhost:8080/",
          "height": 35
        },
        "id": "bWSDnWngzAAd",
        "outputId": "1c9b7a61-e28a-407c-d0fe-a5abe7b5dfa0"
      },
      "execution_count": 10,
      "outputs": [
        {
          "output_type": "execute_result",
          "data": {
            "text/plain": [
              "'white'"
            ],
            "application/vnd.google.colaboratory.intrinsic+json": {
              "type": "string"
            }
          },
          "metadata": {},
          "execution_count": 10
        }
      ]
    },
    {
      "cell_type": "code",
      "source": [
        "# Q6: Class Inheritance\n",
        "\n",
        "# Given:\n",
        "\n",
        "# Create a Bus child class that inherits from the Vehicle class. The default fare charge of any vehicle is seating capacity * 100. If Vehicle is Bus instance, we need to add an extra 10% on full fare as a maintenance charge. So total fare for bus instance will become the final amount = total fare + 10% of the total fare.\n",
        "\n",
        "# Note: The bus seating capacity is 50. so the final fare amount should be 5550. You need to override the fare() method of a Vehicle class in Bus class.\n",
        "\n",
        "# Use the following code for your parent Vehicle class. We need to access the parent class from inside a method of a child class.\n",
        "\n",
        "class Vehicle:\n",
        "  def __init__(self, name, mileage, capacity):\n",
        "    self.name = name\n",
        "    self.mileage = mileage\n",
        "    self.capacity = capacity\n",
        "\n",
        "  def fare(self):\n",
        "    return self.capacity * 100\n",
        "\n",
        "class Bus(Vehicle):\n",
        "  def fare(self):\n",
        "    fare = self.capacity * 100\n",
        "    amount = fare * 1.1\n",
        "    return amount\n",
        "\n",
        "bus = Bus('Volvo', 12, 50)\n",
        "print(bus.fare())"
      ],
      "metadata": {
        "colab": {
          "base_uri": "https://localhost:8080/"
        },
        "id": "-d_P0iXv8hZB",
        "outputId": "f707b546-8c94-4cd6-e5e2-aff306bc8729"
      },
      "execution_count": 11,
      "outputs": [
        {
          "output_type": "stream",
          "name": "stdout",
          "text": [
            "5500.0\n"
          ]
        }
      ]
    },
    {
      "cell_type": "code",
      "source": [
        "# Determine which class a given Bus object belongs to\n",
        "\n",
        "class Vehicle:\n",
        "  def __init__(self, name, max_speed, capacity):\n",
        "    self.name = name\n",
        "    self.max_speed = max_speed\n",
        "    self.capacity = capacity\n",
        "\n",
        "class Bus(Vehicle):\n",
        "  pass\n",
        "\n",
        "bus = Bus('Volvo', 180, 40)\n",
        "print(type(bus))"
      ],
      "metadata": {
        "colab": {
          "base_uri": "https://localhost:8080/"
        },
        "id": "0hT-V1yPH1Db",
        "outputId": "b9c67bae-491a-4863-ee52-558625eef6c6"
      },
      "execution_count": 12,
      "outputs": [
        {
          "output_type": "stream",
          "name": "stdout",
          "text": [
            "<class '__main__.Bus'>\n"
          ]
        }
      ]
    },
    {
      "cell_type": "code",
      "source": [
        "# Determine if School_bus is also an instance of the Vehicle class\n",
        "\n",
        "class Vehicle:\n",
        "  def __init__(self, name, max_speed, capacity):\n",
        "    self.name = name\n",
        "    self.max_speed = max_speed\n",
        "    self.capacity = capacity\n",
        "\n",
        "class Bus(Vehicle):\n",
        "  pass\n",
        "\n",
        "bus = Bus('Volvo', 180, 40)\n",
        "print(isinstance(bus, Vehicle))"
      ],
      "metadata": {
        "colab": {
          "base_uri": "https://localhost:8080/"
        },
        "id": "JV4TYSEIMsLb",
        "outputId": "81b64b3b-1faf-4ca1-8b5e-6538180999a7"
      },
      "execution_count": 13,
      "outputs": [
        {
          "output_type": "stream",
          "name": "stdout",
          "text": [
            "True\n"
          ]
        }
      ]
    },
    {
      "cell_type": "code",
      "source": [],
      "metadata": {
        "id": "dcNc52sWM6ny"
      },
      "execution_count": null,
      "outputs": []
    }
  ]
}