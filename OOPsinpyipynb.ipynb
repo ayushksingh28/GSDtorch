{
  "nbformat": 4,
  "nbformat_minor": 0,
  "metadata": {
    "colab": {
      "provenance": [],
      "authorship_tag": "ABX9TyNqW+Qsrf1+Aq4HhiIvGfrH",
      "include_colab_link": true
    },
    "kernelspec": {
      "name": "python3",
      "display_name": "Python 3"
    },
    "language_info": {
      "name": "python"
    }
  },
  "cells": [
    {
      "cell_type": "markdown",
      "metadata": {
        "id": "view-in-github",
        "colab_type": "text"
      },
      "source": [
        "<a href=\"https://colab.research.google.com/github/greymini/GSDpy-torch/blob/main/OOPsinpyipynb.ipynb\" target=\"_parent\"><img src=\"https://colab.research.google.com/assets/colab-badge.svg\" alt=\"Open In Colab\"/></a>"
      ]
    },
    {
      "cell_type": "markdown",
      "source": [
        "### Classes and Instances"
      ],
      "metadata": {
        "id": "zA7LdH12dXk0"
      }
    },
    {
      "cell_type": "code",
      "execution_count": 10,
      "metadata": {
        "colab": {
          "base_uri": "https://localhost:8080/"
        },
        "id": "MtFSScjIbDlM",
        "outputId": "0631b901-f289-4406-c99f-3cfc52aed082"
      },
      "outputs": [
        {
          "output_type": "stream",
          "name": "stdout",
          "text": [
            "Corey.Scafer@company.com\n",
            "Test.User@company.com\n"
          ]
        }
      ],
      "source": [
        "class Employee: ## class method\n",
        "  def __init__(self, first, last, pay): ## __init__ is the initialization of the class or maybe in terms of other languages it's a constructor\n",
        "    self.first = first # instance variables which are unique to every instance.\n",
        "    self.last = last\n",
        "    self.pay = pay\n",
        "    self.email = first + \".\" + last + \"@company.com\"\n",
        "\n",
        "  def fullname(self): ## taking instance of the class as the first argument and that's all that you will need\n",
        "    return \"{} {}\".format(self.first, self.last)\n",
        "\n",
        "\n",
        "\n",
        "emp1 = Employee(\"Corey\", \"Scafer\", 40000)\n",
        "emp2 = Employee(\"Test\", \"User\", 50000)\n",
        "\n",
        "print(emp1.email)\n",
        "print(emp2.email)"
      ]
    },
    {
      "cell_type": "code",
      "source": [
        "print(emp1.fullname()) ## an instance and calling a method then I don't need to pass in self, it runs itself."
      ],
      "metadata": {
        "colab": {
          "base_uri": "https://localhost:8080/"
        },
        "id": "4MgDJzrWe6Z0",
        "outputId": "a1bbf397-6cdf-4b9a-f1ea-1383fff2c1de"
      },
      "execution_count": 11,
      "outputs": [
        {
          "output_type": "stream",
          "name": "stdout",
          "text": [
            "Corey Scafer\n"
          ]
        }
      ]
    },
    {
      "cell_type": "code",
      "source": [
        "Employee.fullname(emp1) ## when we run the method on a class then it doesn't know which instance to run on that method."
      ],
      "metadata": {
        "colab": {
          "base_uri": "https://localhost:8080/",
          "height": 35
        },
        "id": "pPSJot4HgChJ",
        "outputId": "27b445c2-b1c4-46c3-f78c-546eb5e9e656"
      },
      "execution_count": 12,
      "outputs": [
        {
          "output_type": "execute_result",
          "data": {
            "text/plain": [
              "'Corey Scafer'"
            ],
            "application/vnd.google.colaboratory.intrinsic+json": {
              "type": "string"
            }
          },
          "metadata": {},
          "execution_count": 12
        }
      ]
    },
    {
      "cell_type": "code",
      "source": [
        "class Employee: ## class method\n",
        "\n",
        "  raise_amount = 1.04\n",
        "  def __init__(self, first, last, pay): ## __init__ is the initialization of the class or maybe in terms of other languages it's a constructor\n",
        "    self.first = first # instance variables which are unique to every instance.\n",
        "    self.last = last\n",
        "    self.pay = pay\n",
        "    self.email = first + \".\" + last + \"@company.com\"\n",
        "\n",
        "  def fullname(self): ## taking instance of the class as the first argument and that's all that you will need\n",
        "    return \"{} {}\".format(self.first, self.last)\n",
        "\n",
        "  def apply_raise(self):\n",
        "    self.pay = int(self.pay * self.raise_amount)\n",
        "\n",
        "\n",
        "\n",
        "emp1 = Employee(\"Corey\", \"Scafer\", 50000)\n",
        "emp2 = Employee(\"Test\", \"User\", 50000)"
      ],
      "metadata": {
        "id": "-cWeck1fg8Jj"
      },
      "execution_count": 5,
      "outputs": []
    },
    {
      "cell_type": "code",
      "source": [
        "print(emp1.pay)"
      ],
      "metadata": {
        "colab": {
          "base_uri": "https://localhost:8080/"
        },
        "id": "EjVZPht_HWMc",
        "outputId": "a16ac915-2164-4ac1-cfe1-fbb2a9e0ff97"
      },
      "execution_count": 6,
      "outputs": [
        {
          "output_type": "stream",
          "name": "stdout",
          "text": [
            "50000\n"
          ]
        }
      ]
    },
    {
      "cell_type": "code",
      "source": [
        "emp1.apply_raise()\n",
        "print(emp1.pay)"
      ],
      "metadata": {
        "colab": {
          "base_uri": "https://localhost:8080/"
        },
        "id": "i84PGCt2HYhL",
        "outputId": "439c8037-234f-4cae-f891-84c6ea5700d5"
      },
      "execution_count": 7,
      "outputs": [
        {
          "output_type": "stream",
          "name": "stdout",
          "text": [
            "52000\n"
          ]
        }
      ]
    },
    {
      "cell_type": "code",
      "source": [
        "print(Employee.raise_amount)\n",
        "print(emp1.raise_amount)\n",
        "print(emp2.raise_amount)\n",
        "## Whenever we raise an attribute to an instance, it checks whether that instance has that attribute, in case of a no. It checks if the class has that attribute."
      ],
      "metadata": {
        "colab": {
          "base_uri": "https://localhost:8080/"
        },
        "id": "rwevDlGCI2aM",
        "outputId": "e1b1ac55-9fab-4a91-9646-6880e3678dfc"
      },
      "execution_count": 9,
      "outputs": [
        {
          "output_type": "stream",
          "name": "stdout",
          "text": [
            "1.04\n",
            "1.04\n",
            "1.04\n"
          ]
        }
      ]
    },
    {
      "cell_type": "code",
      "source": [
        "class Employee: ## class method\n",
        "\n",
        "  raise_amount = 1.04\n",
        "  def __init__(self, first, last, pay): ## __init__ is the initialization of the class or maybe in terms of other languages it's a constructor\n",
        "    self.first = first # instance variables which are unique to every instance.\n",
        "    self.last = last\n",
        "    self.pay = pay\n",
        "    self.email = first + \".\" + last + \"@company.com\"\n",
        "\n",
        "  def fullname(self): ## taking instance of the class as the first argument and that's all that you will need\n",
        "    return \"{} {}\".format(self.first, self.last)\n",
        "\n",
        "  def apply_raise(self):\n",
        "    self.pay = int(self.pay * self.raise_amount)\n",
        "\n",
        "\n",
        "\n",
        "emp1 = Employee(\"Corey\", \"Scafer\", 50000)\n",
        "emp2 = Employee(\"Test\", \"User\", 50000)\n",
        "\n",
        "\n",
        "Employee.raise_amount = 1.05\n",
        "\n",
        "print(Employee.raise_amount)\n",
        "print(emp1.raise_amount)\n",
        "print(emp2.raise_amount)"
      ],
      "metadata": {
        "colab": {
          "base_uri": "https://localhost:8080/"
        },
        "id": "TDVKk9E8JtH4",
        "outputId": "8402ba66-3958-49dd-c14e-96a31402b7ef"
      },
      "execution_count": 10,
      "outputs": [
        {
          "output_type": "stream",
          "name": "stdout",
          "text": [
            "1.05\n",
            "1.05\n",
            "1.05\n"
          ]
        }
      ]
    },
    {
      "cell_type": "code",
      "source": [
        "class Employee: ## class method\n",
        "\n",
        "  raise_amount = 1.04\n",
        "  def __init__(self, first, last, pay): ## __init__ is the initialization of the class or maybe in terms of other languages it's a constructor\n",
        "    self.first = first # instance variables which are unique to every instance.\n",
        "    self.last = last\n",
        "    self.pay = pay\n",
        "    self.email = first + \".\" + last + \"@company.com\"\n",
        "\n",
        "  def fullname(self): ## taking instance of the class as the first argument and that's all that you will need\n",
        "    return \"{} {}\".format(self.first, self.last)\n",
        "\n",
        "  def apply_raise(self):\n",
        "    self.pay = int(self.pay * self.raise_amount)\n",
        "\n",
        "\n",
        "\n",
        "emp1 = Employee(\"Corey\", \"Scafer\", 50000)\n",
        "emp2 = Employee(\"Test\", \"User\", 50000)\n",
        "\n",
        "emp1.raise_amount = 1.05\n",
        "\n",
        "print(Employee.raise_amount)\n",
        "print(emp1.raise_amount)\n",
        "print(emp2.raise_amount)"
      ],
      "metadata": {
        "colab": {
          "base_uri": "https://localhost:8080/"
        },
        "id": "xojwsVHJK5BC",
        "outputId": "346c63bf-5f4b-4ecb-ae88-22530b636021"
      },
      "execution_count": 11,
      "outputs": [
        {
          "output_type": "stream",
          "name": "stdout",
          "text": [
            "1.04\n",
            "1.05\n",
            "1.04\n"
          ]
        }
      ]
    },
    {
      "cell_type": "code",
      "source": [
        "print(emp1.__dict__)"
      ],
      "metadata": {
        "colab": {
          "base_uri": "https://localhost:8080/"
        },
        "id": "uFkaG6nILOSP",
        "outputId": "e5aed86e-1633-494e-9a99-cd5551c05fad"
      },
      "execution_count": 12,
      "outputs": [
        {
          "output_type": "stream",
          "name": "stdout",
          "text": [
            "{'first': 'Corey', 'last': 'Scafer', 'pay': 50000, 'email': 'Corey.Scafer@company.com', 'raise_amount': 1.05}\n"
          ]
        }
      ]
    },
    {
      "cell_type": "code",
      "source": [
        "class Employee: ## class method\n",
        "  num_of_emps = 0\n",
        "  raise_amount = 1.04\n",
        "  def __init__(self, first, last, pay): ## __init__ is the initialization of the class or maybe in terms of other languages it's a constructor\n",
        "    self.first = first # instance variables which are unique to every instance.\n",
        "    self.last = last\n",
        "    self.pay = pay\n",
        "    self.email = first + \".\" + last + \"@company.com\"\n",
        "\n",
        "    Employee.num_of_emps +=1 ## class variables\n",
        "\n",
        "\n",
        "  def fullname(self): ## taking instance of the class as the first argument and that's all that you will need\n",
        "    return \"{} {}\".format(self.first, self.last)\n",
        "\n",
        "  def apply_raise(self):\n",
        "    self.pay = int(self.pay * self.raise_amount)\n",
        "\n",
        "\n",
        "\n",
        "emp1 = Employee(\"Corey\", \"Scafer\", 50000)\n",
        "emp2 = Employee(\"Test\", \"User\", 50000)"
      ],
      "metadata": {
        "id": "k9K4zW4-LUJ0"
      },
      "execution_count": 13,
      "outputs": []
    },
    {
      "cell_type": "code",
      "source": [
        "print(Employee.num_of_emps)"
      ],
      "metadata": {
        "colab": {
          "base_uri": "https://localhost:8080/"
        },
        "id": "5pPAzKgVLubN",
        "outputId": "fe1b8def-ad7f-43f1-ded8-82e4adc99141"
      },
      "execution_count": 14,
      "outputs": [
        {
          "output_type": "stream",
          "name": "stdout",
          "text": [
            "2\n"
          ]
        }
      ]
    },
    {
      "cell_type": "markdown",
      "source": [
        "### Regular Methods, Class Methods and Static Methods"
      ],
      "metadata": {
        "id": "3-R_QPJQMD11"
      }
    },
    {
      "cell_type": "code",
      "source": [
        "class Employee: ## class method\n",
        "\n",
        "  raise_amount = 1.04\n",
        "  def __init__(self, first, last, pay): ## __init__ is the initialization of the class or maybe in terms of other languages it's a constructor\n",
        "    self.first = first # instance variables which are unique to every instance.\n",
        "    self.last = last\n",
        "    self.pay = pay\n",
        "    self.email = first + \".\" + last + \"@company.com\"\n",
        "\n",
        "  def fullname(self): ## taking instance of the class as the first argument and that's all that you will need\n",
        "    return \"{} {}\".format(self.first, self.last)\n",
        "\n",
        "  def apply_raise(self):\n",
        "    self.pay = int(self.pay * self.raise_amount)\n",
        "\n",
        "  @classmethod ## class method which just overrides shit and gives direct access to change the attributes in a class\n",
        "  def set_raise_amount(cls, amount):\n",
        "    cls.raise_amount = amount\n",
        "\n",
        "\n",
        "Employee.set_raise_amount(1.07)\n",
        "\n",
        "\n",
        "emp1 = Employee(\"Corey\", \"Scafer\", 50000)\n",
        "emp2 = Employee(\"Test\", \"User\", 50000)\n",
        "\n",
        "print(Employee.raise_amount)\n",
        "print(emp1.raise_amount)\n",
        "print(emp2.raise_amount)"
      ],
      "metadata": {
        "colab": {
          "base_uri": "https://localhost:8080/"
        },
        "id": "yBRzoc_QLzPx",
        "outputId": "006298fc-1c30-46ad-a216-ad07f0e268e0"
      },
      "execution_count": 16,
      "outputs": [
        {
          "output_type": "stream",
          "name": "stdout",
          "text": [
            "1.07\n",
            "1.07\n",
            "1.07\n"
          ]
        }
      ]
    },
    {
      "cell_type": "code",
      "source": [
        "class Employee: ## class method\n",
        "\n",
        "  raise_amount = 1.04\n",
        "  def __init__(self, first, last, pay): ## __init__ is the initialization of the class or maybe in terms of other languages it's a constructor\n",
        "    self.first = first # instance variables which are unique to every instance.\n",
        "    self.last = last\n",
        "    self.pay = pay\n",
        "    self.email = first + \".\" + last + \"@company.com\"\n",
        "\n",
        "  def fullname(self): ## taking instance of the class as the first argument and that's all that you will need\n",
        "    return \"{} {}\".format(self.first, self.last)\n",
        "\n",
        "  def apply_raise(self):\n",
        "    self.pay = int(self.pay * self.raise_amount)\n",
        "\n",
        "\n",
        "  @classmethod\n",
        "  def set_raise_amount(cls, amount):\n",
        "    cls.raise_amount = amount\n",
        "\n",
        "\n",
        "emp1 = Employee(\"Corey\", \"Scafer\", 50000)\n",
        "emp2 = Employee(\"Test\", \"User\", 50000)\n",
        "\n",
        "\n",
        "emp1.set_raise_amount(1.08) # run the class method from the instance and it changes the attribute value for all the instances\n",
        "\n",
        "print(Employee.raise_amount)\n",
        "print(emp1.raise_amount)\n",
        "print(emp2.raise_amount)"
      ],
      "metadata": {
        "colab": {
          "base_uri": "https://localhost:8080/"
        },
        "id": "mJAq8c7EN6WH",
        "outputId": "6fdfc98d-bb7f-472a-9fca-0e157d854216"
      },
      "execution_count": 21,
      "outputs": [
        {
          "output_type": "stream",
          "name": "stdout",
          "text": [
            "1.08\n",
            "1.08\n",
            "1.08\n"
          ]
        }
      ]
    },
    {
      "cell_type": "code",
      "source": [],
      "metadata": {
        "id": "-yUVeSf7PXGe"
      },
      "execution_count": null,
      "outputs": []
    }
  ]
}